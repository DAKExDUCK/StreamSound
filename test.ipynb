{
 "cells": [
  {
   "cell_type": "code",
   "execution_count": null,
   "metadata": {},
   "outputs": [],
   "source": [
    "from modules.yandex_m_client import YandexMusicClient\n",
    "\n",
    "await YandexMusicClient.init()"
   ]
  },
  {
   "cell_type": "code",
   "execution_count": null,
   "metadata": {},
   "outputs": [],
   "source": [
    "\"https://music.yandex.kz/users/arsengabdulin/playlists/1019\"\n",
    "\n",
    "\n",
    "data = (await YandexMusicClient.client.users_playlists( kind='1019', user_id='arsengabdulin' )).tracks\n",
    "\n",
    "for track in data:\n",
    "    track = await track.fetch_track_async()\n",
    "\n",
    "    if not track.available:\n",
    "        continue\n",
    "\n",
    "    await track.get_download_info_async()\n",
    "\n",
    "    links = [ await info.get_direct_link_async() for info in track.download_info if info.codec == 'mp3' and info.bitrate_in_kbps == 192 ]\n",
    "    if len(links) == 0:\n",
    "        raise \"Not found mp3 and 192kbps\"\n",
    "    print( links[0] )\n"
   ]
  },
  {
   "cell_type": "code",
   "execution_count": null,
   "metadata": {},
   "outputs": [],
   "source": [
    "\"https://music.yandex.kz/users/arsengabdulin/playlists/1019\"\n",
    "\n",
    "\n",
    "data = (await YandexMusicClient.client.users_playlists( kind='1019', user_id='arsengabdulin' )).tracks\n",
    "\n",
    "for track in data:\n",
    "    track = await track.fetch_track_async()\n",
    "\n",
    "    if not track.available:\n",
    "        continue\n",
    "\n",
    "    await track.get_download_info_async()\n",
    "\n",
    "    links = [ await info.get_direct_link_async() for info in track.download_info if info.codec == 'mp3' and info.bitrate_in_kbps == 192 ]\n",
    "    if len(links) == 0:\n",
    "        raise \"Not found mp3 and 192kbps\"\n",
    "    print( links[0] )\n"
   ]
  },
  {
   "cell_type": "code",
   "execution_count": null,
   "metadata": {},
   "outputs": [],
   "source": []
  },
  {
   "cell_type": "code",
   "execution_count": null,
   "metadata": {},
   "outputs": [],
   "source": []
  },
  {
   "cell_type": "code",
   "execution_count": null,
   "metadata": {},
   "outputs": [],
   "source": []
  }
 ],
 "metadata": {
  "kernelspec": {
   "display_name": "venv",
   "language": "python",
   "name": "python3"
  },
  "language_info": {
   "codemirror_mode": {
    "name": "ipython",
    "version": 3
   },
   "file_extension": ".py",
   "mimetype": "text/x-python",
   "name": "python",
   "nbconvert_exporter": "python",
   "pygments_lexer": "ipython3",
   "version": "3.10.9"
  },
  "orig_nbformat": 4
 },
 "nbformat": 4,
 "nbformat_minor": 2
}
