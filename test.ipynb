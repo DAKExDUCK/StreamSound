{
 "cells": [
  {
   "cell_type": "code",
   "execution_count": null,
   "metadata": {},
   "outputs": [],
   "source": [
    "from modules.yandex_m_client import YandexMusicClient\n",
    "\n",
    "await YandexMusicClient.init()"
   ]
  },
  {
   "cell_type": "code",
   "execution_count": 2,
   "metadata": {},
   "outputs": [
    {
     "name": "stdout",
     "output_type": "stream",
     "text": [
      "https://s780sas.storage.yandex.net/get-mp3/672f6f2544b7a9267e6210743882f410/0005f69bcc1778c0/rmusic/U2FsdGVkX19HZO67Ur9YBrnl9DJzy_fPQjxtzYoeFUAXYcXR8NSwqlvxE_Wk9TiKV-2gZVGOhAw-AkG0U4r2QwfjFKJ7AJkB8aBw7075K8o/4744ef02485cccf1e56e6ef10522fb2deb499deb373564ddf2e200469cf9cab9/22835\n",
      "https://s293iva.storage.yandex.net/get-mp3/b5362987619c93616b88ea948ef001c3/0005f69bcc215389/rmusic/U2FsdGVkX1-tCExxTBzbNpCGSY0bf2ksU-vYI-C9nvBef-LaQ4KcyUqnXXhGlylc0e3sT87HMwE3zY1xaXLMRz4mevFd2q3K5uYZYqQQ0Jo/5a75ead63a14228fc179721c8f425bdfcafa0183f3209835c10e2c27f1df86ae/19467\n"
     ]
    },
    {
     "ename": "CancelledError",
     "evalue": "",
     "output_type": "error",
     "traceback": [
      "\u001b[0;31m---------------------------------------------------------------------------\u001b[0m",
      "\u001b[0;31mCancelledError\u001b[0m                            Traceback (most recent call last)",
      "Cell \u001b[0;32mIn[2], line 7\u001b[0m\n\u001b[1;32m      4\u001b[0m data \u001b[39m=\u001b[39m (\u001b[39mawait\u001b[39;00m YandexMusicClient\u001b[39m.\u001b[39mclient\u001b[39m.\u001b[39musers_playlists( kind\u001b[39m=\u001b[39m\u001b[39m'\u001b[39m\u001b[39m1019\u001b[39m\u001b[39m'\u001b[39m, user_id\u001b[39m=\u001b[39m\u001b[39m'\u001b[39m\u001b[39marsengabdulin\u001b[39m\u001b[39m'\u001b[39m ))\u001b[39m.\u001b[39mtracks\n\u001b[1;32m      6\u001b[0m \u001b[39mfor\u001b[39;00m track \u001b[39min\u001b[39;00m data:\n\u001b[0;32m----> 7\u001b[0m     track \u001b[39m=\u001b[39m \u001b[39mawait\u001b[39;00m track\u001b[39m.\u001b[39mfetch_track_async()\n\u001b[1;32m      9\u001b[0m     \u001b[39mif\u001b[39;00m \u001b[39mnot\u001b[39;00m track\u001b[39m.\u001b[39mavailable:\n\u001b[1;32m     10\u001b[0m         \u001b[39mcontinue\u001b[39;00m\n",
      "File \u001b[0;32m~/Projects/StreamSound/venv/lib/python3.10/site-packages/yandex_music/track_short.py:54\u001b[0m, in \u001b[0;36mTrackShort.fetch_track_async\u001b[0;34m(self)\u001b[0m\n\u001b[1;32m     48\u001b[0m \u001b[39masync\u001b[39;00m \u001b[39mdef\u001b[39;00m \u001b[39mfetch_track_async\u001b[39m(\u001b[39mself\u001b[39m) \u001b[39m-\u001b[39m\u001b[39m>\u001b[39m \u001b[39m'\u001b[39m\u001b[39mTrack\u001b[39m\u001b[39m'\u001b[39m:\n\u001b[1;32m     49\u001b[0m \u001b[39m    \u001b[39m\u001b[39m\"\"\"Получение полной версии трека.\u001b[39;00m\n\u001b[1;32m     50\u001b[0m \n\u001b[1;32m     51\u001b[0m \u001b[39m    Returns:\u001b[39;00m\n\u001b[1;32m     52\u001b[0m \u001b[39m        :obj:`yandex_music.Track`: Полная версия трека.\u001b[39;00m\n\u001b[1;32m     53\u001b[0m \u001b[39m    \"\"\"\u001b[39;00m\n\u001b[0;32m---> 54\u001b[0m     \u001b[39mreturn\u001b[39;00m (\u001b[39mawait\u001b[39;00m \u001b[39mself\u001b[39m\u001b[39m.\u001b[39mclient\u001b[39m.\u001b[39mtracks(\u001b[39mself\u001b[39m\u001b[39m.\u001b[39mtrack_id))[\u001b[39m0\u001b[39m]\n",
      "File \u001b[0;32m~/Projects/StreamSound/venv/lib/python3.10/site-packages/yandex_music/client_async.py:70\u001b[0m, in \u001b[0;36mlog.<locals>.wrapper\u001b[0;34m(*args, **kwargs)\u001b[0m\n\u001b[1;32m     66\u001b[0m \u001b[39m@functools\u001b[39m\u001b[39m.\u001b[39mwraps(method)\n\u001b[1;32m     67\u001b[0m \u001b[39masync\u001b[39;00m \u001b[39mdef\u001b[39;00m \u001b[39mwrapper\u001b[39m(\u001b[39m*\u001b[39margs, \u001b[39m*\u001b[39m\u001b[39m*\u001b[39mkwargs):\n\u001b[1;32m     68\u001b[0m     logger\u001b[39m.\u001b[39mdebug(\u001b[39mf\u001b[39m\u001b[39m'\u001b[39m\u001b[39mEntering: \u001b[39m\u001b[39m{\u001b[39;00mmethod\u001b[39m.\u001b[39m\u001b[39m__name__\u001b[39m\u001b[39m}\u001b[39;00m\u001b[39m'\u001b[39m)\n\u001b[0;32m---> 70\u001b[0m     result \u001b[39m=\u001b[39m \u001b[39mawait\u001b[39;00m method(\u001b[39m*\u001b[39margs, \u001b[39m*\u001b[39m\u001b[39m*\u001b[39mkwargs)\n\u001b[1;32m     71\u001b[0m     logger\u001b[39m.\u001b[39mdebug(result)\n\u001b[1;32m     73\u001b[0m     logger\u001b[39m.\u001b[39mdebug(\u001b[39mf\u001b[39m\u001b[39m'\u001b[39m\u001b[39mExiting: \u001b[39m\u001b[39m{\u001b[39;00mmethod\u001b[39m.\u001b[39m\u001b[39m__name__\u001b[39m\u001b[39m}\u001b[39;00m\u001b[39m'\u001b[39m)\n",
      "File \u001b[0;32m~/Projects/StreamSound/venv/lib/python3.10/site-packages/yandex_music/client_async.py:2067\u001b[0m, in \u001b[0;36mClientAsync.tracks\u001b[0;34m(self, track_ids, with_positions, timeout, *args, **kwargs)\u001b[0m\n\u001b[1;32m   2042\u001b[0m \u001b[39m@log\u001b[39m\n\u001b[1;32m   2043\u001b[0m \u001b[39masync\u001b[39;00m \u001b[39mdef\u001b[39;00m \u001b[39mtracks\u001b[39m(\n\u001b[1;32m   2044\u001b[0m     \u001b[39mself\u001b[39m,\n\u001b[0;32m   (...)\u001b[0m\n\u001b[1;32m   2049\u001b[0m     \u001b[39m*\u001b[39m\u001b[39m*\u001b[39mkwargs,\n\u001b[1;32m   2050\u001b[0m ) \u001b[39m-\u001b[39m\u001b[39m>\u001b[39m List[Track]:\n\u001b[1;32m   2051\u001b[0m \u001b[39m    \u001b[39m\u001b[39m\"\"\"Получение трека/треков.\u001b[39;00m\n\u001b[1;32m   2052\u001b[0m \n\u001b[1;32m   2053\u001b[0m \u001b[39m    Args:\u001b[39;00m\n\u001b[0;32m   (...)\u001b[0m\n\u001b[1;32m   2065\u001b[0m \u001b[39m        :class:`yandex_music.exceptions.YandexMusicError`: Базовое исключение библиотеки.\u001b[39;00m\n\u001b[1;32m   2066\u001b[0m \u001b[39m    \"\"\"\u001b[39;00m\n\u001b[0;32m-> 2067\u001b[0m     \u001b[39mreturn\u001b[39;00m \u001b[39mawait\u001b[39;00m \u001b[39mself\u001b[39m\u001b[39m.\u001b[39m_get_list(\n\u001b[1;32m   2068\u001b[0m         \u001b[39m'\u001b[39m\u001b[39mtrack\u001b[39m\u001b[39m'\u001b[39m, track_ids, {\u001b[39m'\u001b[39m\u001b[39mwith-positions\u001b[39m\u001b[39m'\u001b[39m: \u001b[39mstr\u001b[39m(with_positions)}, timeout, \u001b[39m*\u001b[39margs, \u001b[39m*\u001b[39m\u001b[39m*\u001b[39mkwargs\n\u001b[1;32m   2069\u001b[0m     )\n",
      "File \u001b[0;32m~/Projects/StreamSound/venv/lib/python3.10/site-packages/yandex_music/client_async.py:1996\u001b[0m, in \u001b[0;36mClientAsync._get_list\u001b[0;34m(self, object_type, ids, params, timeout, *args, **kwargs)\u001b[0m\n\u001b[1;32m   1992\u001b[0m params\u001b[39m.\u001b[39mupdate({\u001b[39mf\u001b[39m\u001b[39m'\u001b[39m\u001b[39m{\u001b[39;00mobject_type\u001b[39m}\u001b[39;00m\u001b[39m-ids\u001b[39m\u001b[39m'\u001b[39m: ids})\n\u001b[1;32m   1994\u001b[0m url \u001b[39m=\u001b[39m \u001b[39mf\u001b[39m\u001b[39m'\u001b[39m\u001b[39m{\u001b[39;00m\u001b[39mself\u001b[39m\u001b[39m.\u001b[39mbase_url\u001b[39m}\u001b[39;00m\u001b[39m/\u001b[39m\u001b[39m{\u001b[39;00mobject_type\u001b[39m}\u001b[39;00m\u001b[39ms\u001b[39m\u001b[39m'\u001b[39m \u001b[39m+\u001b[39m (\u001b[39m'\u001b[39m\u001b[39m/list\u001b[39m\u001b[39m'\u001b[39m \u001b[39mif\u001b[39;00m object_type \u001b[39m==\u001b[39m \u001b[39m'\u001b[39m\u001b[39mplaylist\u001b[39m\u001b[39m'\u001b[39m \u001b[39melse\u001b[39;00m \u001b[39m'\u001b[39m\u001b[39m'\u001b[39m)\n\u001b[0;32m-> 1996\u001b[0m result \u001b[39m=\u001b[39m \u001b[39mawait\u001b[39;00m \u001b[39mself\u001b[39m\u001b[39m.\u001b[39m_request\u001b[39m.\u001b[39mpost(url, params, timeout\u001b[39m=\u001b[39mtimeout, \u001b[39m*\u001b[39margs, \u001b[39m*\u001b[39m\u001b[39m*\u001b[39mkwargs)\n\u001b[1;32m   1998\u001b[0m \u001b[39mreturn\u001b[39;00m de_list[object_type](result, \u001b[39mself\u001b[39m)\n",
      "File \u001b[0;32m~/Projects/StreamSound/venv/lib/python3.10/site-packages/yandex_music/utils/request_async.py:282\u001b[0m, in \u001b[0;36mRequest.post\u001b[0;34m(self, url, data, timeout, *args, **kwargs)\u001b[0m\n\u001b[1;32m    265\u001b[0m \u001b[39masync\u001b[39;00m \u001b[39mdef\u001b[39;00m \u001b[39mpost\u001b[39m(\u001b[39mself\u001b[39m, url, data\u001b[39m=\u001b[39m\u001b[39mNone\u001b[39;00m, timeout\u001b[39m=\u001b[39m\u001b[39m5\u001b[39m, \u001b[39m*\u001b[39margs, \u001b[39m*\u001b[39m\u001b[39m*\u001b[39mkwargs) \u001b[39m-\u001b[39m\u001b[39m>\u001b[39m Union[\u001b[39mdict\u001b[39m, \u001b[39mstr\u001b[39m]:\n\u001b[1;32m    266\u001b[0m \u001b[39m    \u001b[39m\u001b[39m\"\"\"Отправка POST запроса.\u001b[39;00m\n\u001b[1;32m    267\u001b[0m \n\u001b[1;32m    268\u001b[0m \u001b[39m    Args:\u001b[39;00m\n\u001b[0;32m   (...)\u001b[0m\n\u001b[1;32m    280\u001b[0m \u001b[39m        :class:`yandex_music.exceptions.YandexMusicError`: Базовое исключение библиотеки.\u001b[39;00m\n\u001b[1;32m    281\u001b[0m \u001b[39m    \"\"\"\u001b[39;00m\n\u001b[0;32m--> 282\u001b[0m     result \u001b[39m=\u001b[39m \u001b[39mawait\u001b[39;00m \u001b[39mself\u001b[39m\u001b[39m.\u001b[39m_request_wrapper(\n\u001b[1;32m    283\u001b[0m         \u001b[39m'\u001b[39m\u001b[39mPOST\u001b[39m\u001b[39m'\u001b[39m,\n\u001b[1;32m    284\u001b[0m         url,\n\u001b[1;32m    285\u001b[0m         headers\u001b[39m=\u001b[39m\u001b[39mself\u001b[39m\u001b[39m.\u001b[39mheaders,\n\u001b[1;32m    286\u001b[0m         proxy\u001b[39m=\u001b[39m\u001b[39mself\u001b[39m\u001b[39m.\u001b[39mproxy_url,\n\u001b[1;32m    287\u001b[0m         data\u001b[39m=\u001b[39mdata,\n\u001b[1;32m    288\u001b[0m         timeout\u001b[39m=\u001b[39maiohttp\u001b[39m.\u001b[39mClientTimeout(total\u001b[39m=\u001b[39mtimeout),\n\u001b[1;32m    289\u001b[0m         \u001b[39m*\u001b[39margs,\n\u001b[1;32m    290\u001b[0m         \u001b[39m*\u001b[39m\u001b[39m*\u001b[39mkwargs,\n\u001b[1;32m    291\u001b[0m     )\n\u001b[1;32m    293\u001b[0m     \u001b[39mreturn\u001b[39;00m \u001b[39mself\u001b[39m\u001b[39m.\u001b[39m_parse(result)\u001b[39m.\u001b[39mget_result()\n",
      "File \u001b[0;32m~/Projects/StreamSound/venv/lib/python3.10/site-packages/yandex_music/utils/request_async.py:202\u001b[0m, in \u001b[0;36mRequest._request_wrapper\u001b[0;34m(self, *args, **kwargs)\u001b[0m\n\u001b[1;32m    199\u001b[0m kwargs[\u001b[39m'\u001b[39m\u001b[39mheaders\u001b[39m\u001b[39m'\u001b[39m][\u001b[39m'\u001b[39m\u001b[39mUser-Agent\u001b[39m\u001b[39m'\u001b[39m] \u001b[39m=\u001b[39m USER_AGENT\n\u001b[1;32m    201\u001b[0m \u001b[39mtry\u001b[39;00m:\n\u001b[0;32m--> 202\u001b[0m     \u001b[39masync\u001b[39;00m \u001b[39mwith\u001b[39;00m aiohttp\u001b[39m.\u001b[39mrequest(\u001b[39m*\u001b[39margs, \u001b[39m*\u001b[39m\u001b[39m*\u001b[39mkwargs) \u001b[39mas\u001b[39;00m _resp:\n\u001b[1;32m    203\u001b[0m         resp \u001b[39m=\u001b[39m _resp\n\u001b[1;32m    204\u001b[0m         content \u001b[39m=\u001b[39m \u001b[39mawait\u001b[39;00m resp\u001b[39m.\u001b[39mcontent\u001b[39m.\u001b[39mread()\n",
      "File \u001b[0;32m~/Projects/StreamSound/venv/lib/python3.10/site-packages/aiohttp/client.py:1189\u001b[0m, in \u001b[0;36m_SessionRequestContextManager.__aenter__\u001b[0;34m(self)\u001b[0m\n\u001b[1;32m   1187\u001b[0m \u001b[39masync\u001b[39;00m \u001b[39mdef\u001b[39;00m \u001b[39m__aenter__\u001b[39m(\u001b[39mself\u001b[39m) \u001b[39m-\u001b[39m\u001b[39m>\u001b[39m ClientResponse:\n\u001b[1;32m   1188\u001b[0m     \u001b[39mtry\u001b[39;00m:\n\u001b[0;32m-> 1189\u001b[0m         \u001b[39mself\u001b[39m\u001b[39m.\u001b[39m_resp \u001b[39m=\u001b[39m \u001b[39mawait\u001b[39;00m \u001b[39mself\u001b[39m\u001b[39m.\u001b[39m_coro\n\u001b[1;32m   1190\u001b[0m     \u001b[39mexcept\u001b[39;00m \u001b[39mBaseException\u001b[39;00m:\n\u001b[1;32m   1191\u001b[0m         \u001b[39mawait\u001b[39;00m \u001b[39mself\u001b[39m\u001b[39m.\u001b[39m_session\u001b[39m.\u001b[39mclose()\n",
      "File \u001b[0;32m~/Projects/StreamSound/venv/lib/python3.10/site-packages/aiohttp/client.py:536\u001b[0m, in \u001b[0;36mClientSession._request\u001b[0;34m(self, method, str_or_url, params, data, json, cookies, headers, skip_auto_headers, auth, allow_redirects, max_redirects, compress, chunked, expect100, raise_for_status, read_until_eof, proxy, proxy_auth, timeout, verify_ssl, fingerprint, ssl_context, ssl, proxy_headers, trace_request_ctx, read_bufsize)\u001b[0m\n\u001b[1;32m    534\u001b[0m     \u001b[39masync\u001b[39;00m \u001b[39mwith\u001b[39;00m ceil_timeout(real_timeout\u001b[39m.\u001b[39mconnect):\n\u001b[1;32m    535\u001b[0m         \u001b[39massert\u001b[39;00m \u001b[39mself\u001b[39m\u001b[39m.\u001b[39m_connector \u001b[39mis\u001b[39;00m \u001b[39mnot\u001b[39;00m \u001b[39mNone\u001b[39;00m\n\u001b[0;32m--> 536\u001b[0m         conn \u001b[39m=\u001b[39m \u001b[39mawait\u001b[39;00m \u001b[39mself\u001b[39m\u001b[39m.\u001b[39m_connector\u001b[39m.\u001b[39mconnect(\n\u001b[1;32m    537\u001b[0m             req, traces\u001b[39m=\u001b[39mtraces, timeout\u001b[39m=\u001b[39mreal_timeout\n\u001b[1;32m    538\u001b[0m         )\n\u001b[1;32m    539\u001b[0m \u001b[39mexcept\u001b[39;00m asyncio\u001b[39m.\u001b[39mTimeoutError \u001b[39mas\u001b[39;00m exc:\n\u001b[1;32m    540\u001b[0m     \u001b[39mraise\u001b[39;00m ServerTimeoutError(\n\u001b[1;32m    541\u001b[0m         \u001b[39m\"\u001b[39m\u001b[39mConnection timeout \u001b[39m\u001b[39m\"\u001b[39m \u001b[39m\"\u001b[39m\u001b[39mto host \u001b[39m\u001b[39m{}\u001b[39;00m\u001b[39m\"\u001b[39m\u001b[39m.\u001b[39mformat(url)\n\u001b[1;32m    542\u001b[0m     ) \u001b[39mfrom\u001b[39;00m \u001b[39mexc\u001b[39;00m\n",
      "File \u001b[0;32m~/Projects/StreamSound/venv/lib/python3.10/site-packages/aiohttp/connector.py:540\u001b[0m, in \u001b[0;36mBaseConnector.connect\u001b[0;34m(self, req, traces, timeout)\u001b[0m\n\u001b[1;32m    537\u001b[0m         \u001b[39mawait\u001b[39;00m trace\u001b[39m.\u001b[39msend_connection_create_start()\n\u001b[1;32m    539\u001b[0m \u001b[39mtry\u001b[39;00m:\n\u001b[0;32m--> 540\u001b[0m     proto \u001b[39m=\u001b[39m \u001b[39mawait\u001b[39;00m \u001b[39mself\u001b[39m\u001b[39m.\u001b[39m_create_connection(req, traces, timeout)\n\u001b[1;32m    541\u001b[0m     \u001b[39mif\u001b[39;00m \u001b[39mself\u001b[39m\u001b[39m.\u001b[39m_closed:\n\u001b[1;32m    542\u001b[0m         proto\u001b[39m.\u001b[39mclose()\n",
      "File \u001b[0;32m~/Projects/StreamSound/venv/lib/python3.10/site-packages/aiohttp/connector.py:901\u001b[0m, in \u001b[0;36mTCPConnector._create_connection\u001b[0;34m(self, req, traces, timeout)\u001b[0m\n\u001b[1;32m    899\u001b[0m     _, proto \u001b[39m=\u001b[39m \u001b[39mawait\u001b[39;00m \u001b[39mself\u001b[39m\u001b[39m.\u001b[39m_create_proxy_connection(req, traces, timeout)\n\u001b[1;32m    900\u001b[0m \u001b[39melse\u001b[39;00m:\n\u001b[0;32m--> 901\u001b[0m     _, proto \u001b[39m=\u001b[39m \u001b[39mawait\u001b[39;00m \u001b[39mself\u001b[39m\u001b[39m.\u001b[39m_create_direct_connection(req, traces, timeout)\n\u001b[1;32m    903\u001b[0m \u001b[39mreturn\u001b[39;00m proto\n",
      "File \u001b[0;32m~/Projects/StreamSound/venv/lib/python3.10/site-packages/aiohttp/connector.py:1175\u001b[0m, in \u001b[0;36mTCPConnector._create_direct_connection\u001b[0;34m(self, req, traces, timeout, client_error)\u001b[0m\n\u001b[1;32m   1172\u001b[0m port \u001b[39m=\u001b[39m hinfo[\u001b[39m\"\u001b[39m\u001b[39mport\u001b[39m\u001b[39m\"\u001b[39m]\n\u001b[1;32m   1174\u001b[0m \u001b[39mtry\u001b[39;00m:\n\u001b[0;32m-> 1175\u001b[0m     transp, proto \u001b[39m=\u001b[39m \u001b[39mawait\u001b[39;00m \u001b[39mself\u001b[39m\u001b[39m.\u001b[39m_wrap_create_connection(\n\u001b[1;32m   1176\u001b[0m         \u001b[39mself\u001b[39m\u001b[39m.\u001b[39m_factory,\n\u001b[1;32m   1177\u001b[0m         host,\n\u001b[1;32m   1178\u001b[0m         port,\n\u001b[1;32m   1179\u001b[0m         timeout\u001b[39m=\u001b[39mtimeout,\n\u001b[1;32m   1180\u001b[0m         ssl\u001b[39m=\u001b[39msslcontext,\n\u001b[1;32m   1181\u001b[0m         family\u001b[39m=\u001b[39mhinfo[\u001b[39m\"\u001b[39m\u001b[39mfamily\u001b[39m\u001b[39m\"\u001b[39m],\n\u001b[1;32m   1182\u001b[0m         proto\u001b[39m=\u001b[39mhinfo[\u001b[39m\"\u001b[39m\u001b[39mproto\u001b[39m\u001b[39m\"\u001b[39m],\n\u001b[1;32m   1183\u001b[0m         flags\u001b[39m=\u001b[39mhinfo[\u001b[39m\"\u001b[39m\u001b[39mflags\u001b[39m\u001b[39m\"\u001b[39m],\n\u001b[1;32m   1184\u001b[0m         server_hostname\u001b[39m=\u001b[39mhinfo[\u001b[39m\"\u001b[39m\u001b[39mhostname\u001b[39m\u001b[39m\"\u001b[39m] \u001b[39mif\u001b[39;00m sslcontext \u001b[39melse\u001b[39;00m \u001b[39mNone\u001b[39;00m,\n\u001b[1;32m   1185\u001b[0m         local_addr\u001b[39m=\u001b[39m\u001b[39mself\u001b[39m\u001b[39m.\u001b[39m_local_addr,\n\u001b[1;32m   1186\u001b[0m         req\u001b[39m=\u001b[39mreq,\n\u001b[1;32m   1187\u001b[0m         client_error\u001b[39m=\u001b[39mclient_error,\n\u001b[1;32m   1188\u001b[0m     )\n\u001b[1;32m   1189\u001b[0m \u001b[39mexcept\u001b[39;00m ClientConnectorError \u001b[39mas\u001b[39;00m exc:\n\u001b[1;32m   1190\u001b[0m     last_exc \u001b[39m=\u001b[39m exc\n",
      "File \u001b[0;32m~/Projects/StreamSound/venv/lib/python3.10/site-packages/aiohttp/connector.py:980\u001b[0m, in \u001b[0;36mTCPConnector._wrap_create_connection\u001b[0;34m(self, req, timeout, client_error, *args, **kwargs)\u001b[0m\n\u001b[1;32m    978\u001b[0m \u001b[39mtry\u001b[39;00m:\n\u001b[1;32m    979\u001b[0m     \u001b[39masync\u001b[39;00m \u001b[39mwith\u001b[39;00m ceil_timeout(timeout\u001b[39m.\u001b[39msock_connect):\n\u001b[0;32m--> 980\u001b[0m         \u001b[39mreturn\u001b[39;00m \u001b[39mawait\u001b[39;00m \u001b[39mself\u001b[39m\u001b[39m.\u001b[39m_loop\u001b[39m.\u001b[39mcreate_connection(\u001b[39m*\u001b[39margs, \u001b[39m*\u001b[39m\u001b[39m*\u001b[39mkwargs)  \u001b[39m# type: ignore[return-value]  # noqa\u001b[39;00m\n\u001b[1;32m    981\u001b[0m \u001b[39mexcept\u001b[39;00m cert_errors \u001b[39mas\u001b[39;00m exc:\n\u001b[1;32m    982\u001b[0m     \u001b[39mraise\u001b[39;00m ClientConnectorCertificateError(req\u001b[39m.\u001b[39mconnection_key, exc) \u001b[39mfrom\u001b[39;00m \u001b[39mexc\u001b[39;00m\n",
      "File \u001b[0;32m/usr/lib/python3.10/asyncio/base_events.py:1097\u001b[0m, in \u001b[0;36mBaseEventLoop.create_connection\u001b[0;34m(self, protocol_factory, host, port, ssl, family, proto, flags, sock, local_addr, server_hostname, ssl_handshake_timeout, happy_eyeballs_delay, interleave)\u001b[0m\n\u001b[1;32m   1087\u001b[0m     \u001b[39mif\u001b[39;00m sock\u001b[39m.\u001b[39mtype \u001b[39m!=\u001b[39m socket\u001b[39m.\u001b[39mSOCK_STREAM:\n\u001b[1;32m   1088\u001b[0m         \u001b[39m# We allow AF_INET, AF_INET6, AF_UNIX as long as they\u001b[39;00m\n\u001b[1;32m   1089\u001b[0m         \u001b[39m# are SOCK_STREAM.\u001b[39;00m\n\u001b[0;32m   (...)\u001b[0m\n\u001b[1;32m   1092\u001b[0m         \u001b[39m# Disallowing AF_UNIX in this method, breaks backwards\u001b[39;00m\n\u001b[1;32m   1093\u001b[0m         \u001b[39m# compatibility.\u001b[39;00m\n\u001b[1;32m   1094\u001b[0m         \u001b[39mraise\u001b[39;00m \u001b[39mValueError\u001b[39;00m(\n\u001b[1;32m   1095\u001b[0m             \u001b[39mf\u001b[39m\u001b[39m'\u001b[39m\u001b[39mA Stream Socket was expected, got \u001b[39m\u001b[39m{\u001b[39;00msock\u001b[39m!r}\u001b[39;00m\u001b[39m'\u001b[39m)\n\u001b[0;32m-> 1097\u001b[0m transport, protocol \u001b[39m=\u001b[39m \u001b[39mawait\u001b[39;00m \u001b[39mself\u001b[39m\u001b[39m.\u001b[39m_create_connection_transport(\n\u001b[1;32m   1098\u001b[0m     sock, protocol_factory, ssl, server_hostname,\n\u001b[1;32m   1099\u001b[0m     ssl_handshake_timeout\u001b[39m=\u001b[39mssl_handshake_timeout)\n\u001b[1;32m   1100\u001b[0m \u001b[39mif\u001b[39;00m \u001b[39mself\u001b[39m\u001b[39m.\u001b[39m_debug:\n\u001b[1;32m   1101\u001b[0m     \u001b[39m# Get the socket from the transport because SSL transport closes\u001b[39;00m\n\u001b[1;32m   1102\u001b[0m     \u001b[39m# the old socket and creates a new SSL socket\u001b[39;00m\n\u001b[1;32m   1103\u001b[0m     sock \u001b[39m=\u001b[39m transport\u001b[39m.\u001b[39mget_extra_info(\u001b[39m'\u001b[39m\u001b[39msocket\u001b[39m\u001b[39m'\u001b[39m)\n",
      "File \u001b[0;32m/usr/lib/python3.10/asyncio/base_events.py:1127\u001b[0m, in \u001b[0;36mBaseEventLoop._create_connection_transport\u001b[0;34m(self, sock, protocol_factory, ssl, server_hostname, server_side, ssl_handshake_timeout)\u001b[0m\n\u001b[1;32m   1124\u001b[0m     transport \u001b[39m=\u001b[39m \u001b[39mself\u001b[39m\u001b[39m.\u001b[39m_make_socket_transport(sock, protocol, waiter)\n\u001b[1;32m   1126\u001b[0m \u001b[39mtry\u001b[39;00m:\n\u001b[0;32m-> 1127\u001b[0m     \u001b[39mawait\u001b[39;00m waiter\n\u001b[1;32m   1128\u001b[0m \u001b[39mexcept\u001b[39;00m:\n\u001b[1;32m   1129\u001b[0m     transport\u001b[39m.\u001b[39mclose()\n",
      "\u001b[0;31mCancelledError\u001b[0m: "
     ]
    }
   ],
   "source": [
    "\"https://music.yandex.kz/users/arsengabdulin/playlists/1019\"\n",
    "\n",
    "\n",
    "data = (await YandexMusicClient.client.users_playlists( kind='1019', user_id='arsengabdulin' )).tracks\n",
    "\n",
    "for track in data:\n",
    "    track = await track.fetch_track_async()\n",
    "\n",
    "    if not track.available:\n",
    "        continue\n",
    "\n",
    "    await track.get_download_info_async()\n",
    "\n",
    "    links = [ await info.get_direct_link_async() for info in track.download_info if info.codec == 'mp3' and info.bitrate_in_kbps == 192 ]\n",
    "    if len(links) == 0:\n",
    "        raise \"Not found mp3 and 192kbps\"\n",
    "    print( links[0] )\n"
   ]
  },
  {
   "cell_type": "code",
   "execution_count": null,
   "metadata": {},
   "outputs": [],
   "source": []
  },
  {
   "cell_type": "code",
   "execution_count": null,
   "metadata": {},
   "outputs": [],
   "source": []
  },
  {
   "cell_type": "code",
   "execution_count": null,
   "metadata": {},
   "outputs": [],
   "source": []
  },
  {
   "cell_type": "code",
   "execution_count": null,
   "metadata": {},
   "outputs": [],
   "source": []
  }
 ],
 "metadata": {
  "kernelspec": {
   "display_name": "venv",
   "language": "python",
   "name": "python3"
  },
  "language_info": {
   "codemirror_mode": {
    "name": "ipython",
    "version": 3
   },
   "file_extension": ".py",
   "mimetype": "text/x-python",
   "name": "python",
   "nbconvert_exporter": "python",
   "pygments_lexer": "ipython3",
   "version": "3.10.9"
  },
  "orig_nbformat": 4
 },
 "nbformat": 4,
 "nbformat_minor": 2
}
